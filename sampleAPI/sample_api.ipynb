{
 "cells": [
  {
   "cell_type": "markdown",
   "metadata": {},
   "source": [
    "### Bybit APIを動作させて、どのような挙動を取るか確認する。\n",
    "ここでは以下を確認して、必要な状況を想定する。またPybottersの利用を想定して動作を確認する。\n",
    "- market/\n",
    "    - time (Get Bybit Server Time)\n",
    "    - kline (Get Kline)\n",
    "    - mark-price-kline (Get mark Price Kline)\n",
    "    - instruments-info (Get Instruments Info)\n",
    "    - orderbook (Get Orderbook)\n",
    "    - funding/history (Get Funding Rate History)\n",
    "    - open-interest (Get Open Interest)\n",
    "    - historical-volatility (Get Historical Volatility)\n",
    "    - account-ratio (Get Long Short Ratio)\n",
    "- order/\n",
    "    - create (Place Order)\n",
    "    - amend (Amend Order)\n",
    "    - cancel (Cancel Order)\n",
    "    - open-order (Get Open & Closed Orders)\n",
    "    - cancel-all (Cancel All Orders)\n",
    "- position/\n",
    "    - list (Get Position Info)\n",
    "    - set-leverage (Set Leverage)\n",
    "    - switch-isolated (Switch Cross/Isolated Margin)\n",
    "    - trading-stop (Set Trading Stop)\n",
    "    - add-margin (Add Or Reduce Margin)\n",
    "- account/\n",
    "    - wallet-balance (Get Wallet Balance)\n",
    "    - fee-rate (Get Fee Rate)\n",
    "    - info (Get Account Info)\n",
    "    - transaction-log (Get Transaction Log)\n",
    "- websocket\n",
    "    - ws.orderbook_stream (Orderbook)\n",
    "    - ws.trade_stream (Trade)\n",
    "    - ws.kline_stream (Kline)\n",
    "    - ws.wallet_stream (Wallet)"
   ]
  },
  {
   "cell_type": "code",
   "execution_count": null,
   "metadata": {},
   "outputs": [],
   "source": [
    "## market/\n"
   ]
  }
 ],
 "metadata": {
  "language_info": {
   "name": "python"
  }
 },
 "nbformat": 4,
 "nbformat_minor": 2
}
